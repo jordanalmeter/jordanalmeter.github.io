{
 "cells": [
  {
   "cell_type": "markdown",
   "metadata": {},
   "source": [
    "The following Worksheet is meant to display several examples of hypercube graph associahedra. This block of code defines the HypercubeGraph object, which stores a graph on vertices $\\pm[n]$, as well as some functions for defining simplex graph associahedra and some utility functions. Run this block, and then run the remaining blocks to see some plots of various hypercube graph associahedra."
   ]
  },
  {
   "cell_type": "code",
   "execution_count": null,
   "metadata": {},
   "outputs": [],
   "source": [
    "def full_edge_list(n):\n",
    "    edgelist=[]\n",
    "    for i in range(1,n+1):\n",
    "        for j in range(i+1,n+1):\n",
    "            edgelist.append((i,j))\n",
    "            edgelist.append((i,-j))\n",
    "            edgelist.append((-i,j))\n",
    "            edgelist.append((-i,-j))\n",
    "    return edgelist\n",
    "\n",
    "class HypercubeGraph(object):\n",
    "    def __init__(self,en,edgelist):\n",
    "        self.G = Graph()\n",
    "        self.n = en\n",
    "        for i in (1..en):\n",
    "            self.G.add_vertex(i)\n",
    "            self.G.add_vertex(-(i))\n",
    "        self.G.add_edges(edgelist)\n",
    "    \n",
    "    def get_graph(self):\n",
    "        return self.G\n",
    "    \n",
    "    def get_n(self):\n",
    "        return self.n\n",
    "    \n",
    "    def tube_iterator_1(self):\n",
    "        subgraphs = self.G.connected_subgraph_iterator(vertices_only=True)\n",
    "        for graph in subgraphs:\n",
    "            isTube= True\n",
    "            for i in range(1,self.n+1):\n",
    "                if {i,-i}.issubset(graph):\n",
    "                    isTube=False\n",
    "            if isTube:\n",
    "                yield graph\n",
    "    \n",
    "    def associahedron(self):\n",
    "        tubes = self.tube_iterator_1()\n",
    "        P = Polyhedron(ieqs = [self.inequality(tube) for tube in tubes])\n",
    "        return P\n",
    "    \n",
    "    def custom_associahedron(self,distance):\n",
    "        tubes = self.tube_iterator_1()\n",
    "        P = Polyhedron(ieqs = [self.custom_inequality(tube,distance) for tube in tubes])\n",
    "        return P\n",
    "    \n",
    "    def inequality(self,tube):\n",
    "        ieq = [(len(tube)*3^(self.n-1) -3^(len(tube)-2))] #We swap positive and negative so we get correct orientation\n",
    "        for i in range(1,self.n+1):\n",
    "            if i in tube:\n",
    "                ieq.append(-1)\n",
    "            elif (-i) in tube:\n",
    "                ieq.append(1)\n",
    "            else:\n",
    "                ieq.append(0)\n",
    "        return ieq\n",
    "    def custom_inequality(self,tube,distance):\n",
    "        ieq = [distance(len(tube))]\n",
    "        for i in range(1,self.n+1): #swapping positive and negative...\n",
    "            if i in tube:\n",
    "                ieq.append(-1)\n",
    "            elif (-i) in tube:\n",
    "                ieq.append(1)\n",
    "            else:\n",
    "                ieq.append(0)\n",
    "        return ieq\n",
    "\n",
    "def simplex_custom_inequality(tube,n,f):\n",
    "    ieq = [f(len(tube))]\n",
    "    for i in range(1,n+1):\n",
    "        if i in tube:\n",
    "            ieq.append(1)\n",
    "        else:\n",
    "            ieq.append(0)\n",
    "    return ieq\n",
    "def simplex_graph_associahedron(graph,f=lambda x:3-3^(-x)):\n",
    "    n = len(graph.vertices())\n",
    "    tubes = graph.connected_subgraph_iterator(vertices_only=True)\n",
    "    ieq_list = [simplex_custom_inequality(tube,n,f) for tube in tubes]\n",
    "    eqn_list = [[1 for i in range(0,n+1)]]\n",
    "    P = Polyhedron(ieqs = ieq_list,eqns=eqn_list)\n",
    "    return P\n",
    "\n",
    "def niceplot(hg,f=lambda x: x-3^(x-3),txt=\"\"): #Plots polytope with pleasing ratios, then outputs a pretty spinning\n",
    "    hg.get_graph().show(layout='circular')     #plot in addition to showing the original hypercube graph.\n",
    "    return text(txt,(0,0)).plot()+hg.custom_associahedron(f).plot(frame=false,wireframe='black',polygon=False,point=False,spin=True)"
   ]
  },
  {
   "cell_type": "code",
   "execution_count": null,
   "metadata": {},
   "outputs": [],
   "source": [
    "G1 = HypercubeGraph(3,[(1,2),(2,3)])\n",
    "G2 = HypercubeGraph(3,[(1,2),(2,3),(1,3),(-1,-2),(-2,-3),(-1,-3)])\n",
    "G3 = HypercubeGraph(3,full_edge_list(3))\n",
    "#Our first few polytopes"
   ]
  },
  {
   "cell_type": "code",
   "execution_count": null,
   "metadata": {},
   "outputs": [],
   "source": [
    "niceplot(G1,txt=\"Associahedron\")"
   ]
  },
  {
   "cell_type": "code",
   "execution_count": null,
   "metadata": {},
   "outputs": [],
   "source": [
    "niceplot(G2,txt=\"Permutahedron\")"
   ]
  },
  {
   "cell_type": "code",
   "execution_count": null,
   "metadata": {},
   "outputs": [],
   "source": [
    "niceplot(G3,txt=\"B3 Permutahedron\")"
   ]
  },
  {
   "cell_type": "code",
   "execution_count": null,
   "metadata": {},
   "outputs": [],
   "source": [
    "niceplot(HypercubeGraph(3,[(1,2),(2,3),(-1,-2),(-2,-3)]),txt=\"Bi-Associahedron\")"
   ]
  },
  {
   "cell_type": "code",
   "execution_count": null,
   "metadata": {},
   "outputs": [],
   "source": [
    "niceplot(HypercubeGraph(4,full_edge_list(4)),lambda x: x - 3^(x-4),txt=\"B4 Permutahedron\")"
   ]
  },
  {
   "cell_type": "code",
   "execution_count": null,
   "metadata": {},
   "outputs": [],
   "source": [
    "niceplot(HypercubeGraph(3,[(1,2),(2,3),(3,-1),(-2,-3)]),txt=\"Cyclohedron (only n=3)\")\n",
    "#This is one of the only two constructions of the cyclohedron up to isomorphism in n=3. For n=4, we conjecture that\n",
    "#the cyclohedron cannot be realized as a hypercube graph associahedron."
   ]
  },
  {
   "cell_type": "code",
   "execution_count": null,
   "metadata": {},
   "outputs": [],
   "source": [
    "niceplot(HypercubeGraph(3,[(1,-2),(2,-3)]),txt=\"Pell Numbers\") #OEIS A002203\n",
    "#Preliminary research has shown an isomorphism between the lattice of Pell Permutations \n",
    "#(Lattice of Sashes, Shirley Law 2014), and the lattice of the poset of regions of \n",
    "#the normal fan of this polytope, for dimensions <=7. Obviously very promising."
   ]
  },
  {
   "cell_type": "code",
   "execution_count": null,
   "metadata": {},
   "outputs": [],
   "source": [
    "niceplot(HypercubeGraph(3,[(1,-2),(2,-3),(3,-1)]),txt=\"Companion Pell Numbers\") #OEIS A002203"
   ]
  },
  {
   "cell_type": "code",
   "execution_count": null,
   "metadata": {},
   "outputs": [],
   "source": [
    "niceplot(HypercubeGraph(3,[(1,2),(2,3),(1,3)]),txt=\"Stellohedron\")"
   ]
  },
  {
   "cell_type": "code",
   "execution_count": null,
   "metadata": {},
   "outputs": [],
   "source": [
    "niceplot(HypercubeGraph(4,[(1,2),(2,3),(3,4)]),lambda x: x - 3^(x-4))\n",
    "#Note that Sage default plotting makes a mess of 4D non-symmetric polytopes."
   ]
  }
 ],
 "metadata": {
  "kernelspec": {
   "display_name": "SageMath 8.9",
   "language": "sage",
   "name": "sagemath"
  },
  "language_info": {
   "codemirror_mode": {
    "name": "ipython",
    "version": 2
   },
   "file_extension": ".py",
   "mimetype": "text/x-python",
   "name": "python",
   "nbconvert_exporter": "python",
   "pygments_lexer": "ipython2",
   "version": "2.7.15"
  }
 },
 "nbformat": 4,
 "nbformat_minor": 2
}
